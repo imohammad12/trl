{
 "cells": [
  {
   "cell_type": "markdown",
   "metadata": {},
   "source": [
    "# PPO for transformer models\n",
    "> A Pytorch implementation of Proximal Policy Optimization for transfomer models."
   ]
  },
  {
   "cell_type": "markdown",
   "metadata": {},
   "source": [
    "This follows the language model approach proposed in paper [\"Fine-Tuning Language Models from Human Preferences\"](\n",
    "https://arxiv.org/pdf/1909.08593.pdf) and is similar to the [original implementation](https://github.com/openai/lm-human-preferences). The two main differences are 1) the method is implemented in Pytorch and 2) works with the `transformer` library by Hugging Face."
   ]
  },
  {
   "cell_type": "code",
   "execution_count": 1,
   "metadata": {},
   "outputs": [],
   "source": [
    "# default_exp ppo\n",
    "%load_ext autoreload\n",
    "%autoreload 2"
   ]
  },
  {
   "cell_type": "code",
   "execution_count": 16,
   "metadata": {},
   "outputs": [],
   "source": [
    "# export\n",
    "import numpy as np\n",
    "import torch.nn.functional as F\n",
    "from torch.optim import Adam, SGD\n",
    "import torch\n",
    "import collections\n",
    "import time\n",
    "import random\n",
    "import transformers\n",
    "\n",
    "from trl.core import (logprobs_from_logits,\n",
    "                     whiten,\n",
    "                     clip_by_value,\n",
    "                     entropy_from_logits,\n",
    "                     flatten_dict,\n",
    "                     average_torch_dicts,\n",
    "                     stats_to_np,\n",
    "                     stack_dicts,\n",
    "                     add_suffix,\n",
    "                      split_batch_encoding\n",
    "                     )\n",
    "\n",
    "from trl.ppo import PPOTrainer\n",
    "from trl.gpt2 import GPT2HeadWithValueModel, respond_to_batch\n",
    "from trl.pegasus import PegasusWithValueHeadModel, respond_to_batch_pegasus\n",
    "from transformers import GPT2Tokenizer\n",
    "from transformers import PegasusTokenizer"
   ]
  },
  {
   "cell_type": "code",
   "execution_count": 44,
   "metadata": {},
   "outputs": [],
   "source": [
    "gpt_config = {\n",
    "    \"lm_name\": \"lvwerra/gpt2-imdb\",\n",
    "    \"ref_lm_name\": \"lvwerra/gpt2-imdb\",\n",
    "    \"cls_model_name\": \"lvwerra/bert-imdb\",\n",
    "    \"tk_name\": \"gpt2\",\n",
    "    \"steps\": 25600,\n",
    "    \"batch_size\": 256,\n",
    "    \"forward_batch_size\": 16,\n",
    "    \"ppo_epochs\": 4,   \n",
    "    \"txt_in_len\": 5,\n",
    "    \"txt_out_len\": 15,\n",
    "    \"lr\": 1.41e-5,\n",
    "    \"init_kl_coef\":0.2,\n",
    "    \"target\": 6,\n",
    "    \"horizon\":10000,\n",
    "    \"gamma\":1,\n",
    "    \"lam\":0.95,\n",
    "    \"cliprange\": .2,\n",
    "    \"cliprange_value\":.2,\n",
    "    \"vf_coef\":.1, \n",
    "    \"device\": 'cuda:0'\n",
    "}\n",
    "\n",
    "pegasus_config = {\n",
    "    \"lm_name\": 'tuner007/pegasus_paraphrase',\n",
    "    \"ref_lm_name\": 'tuner007/pegasus_paraphrase',\n",
    "    \"cls_model_name\": None,\n",
    "    \"tk_name\": \"tuner007/pegasus_paraphrase\",\n",
    "    \"steps\": 25600,\n",
    "    \"batch_size\": 2,\n",
    "    \"forward_batch_size\": 1,\n",
    "    \"ppo_epochs\": 4,   \n",
    "    \"txt_in_len\": 5,\n",
    "    \"txt_out_len\": 15,\n",
    "    \"lr\": 1.41e-5,\n",
    "    \"init_kl_coef\":0.2,\n",
    "    \"target\": 6,\n",
    "    \"horizon\":10000,\n",
    "    \"gamma\":1,\n",
    "    \"lam\":0.95,\n",
    "    \"cliprange\": .2,\n",
    "    \"cliprange_value\":.2,\n",
    "    \"vf_coef\":.1, \n",
    "    \"device_ppo\": 'cuda:0',\n",
    "    \"device_ref\": 'cuda:1'\n",
    "}"
   ]
  },
  {
   "cell_type": "markdown",
   "metadata": {},
   "source": [
    "## KL-controllers\n",
    "To ensure that the learned policy does not deviate to much from the original language model the KL divergence between the policy and a reference policy (the language model before PPO training) is used as an additional reward signal. Large KL-divergences are punished and staying close to the reference is rewarded.\n",
    "\n",
    "Two controllers are presented in the paper: an adaptive log-space proportional controller and a fixed controller."
   ]
  },
  {
   "cell_type": "code",
   "execution_count": 26,
   "metadata": {},
   "outputs": [],
   "source": [
    "# exports\n",
    "\n",
    "class AdaptiveKLController:\n",
    "    \"\"\"\n",
    "    Adaptive KL controller described in the paper:\n",
    "    https://arxiv.org/pdf/1909.08593.pdf\n",
    "    \"\"\"\n",
    "    def __init__(self, init_kl_coef, target, horizon):\n",
    "        self.value = init_kl_coef\n",
    "        self.target = target\n",
    "        self.horizon = horizon\n",
    "\n",
    "    def update(self, current, n_steps):\n",
    "        target = self.target\n",
    "        proportional_error = np.clip(current / target - 1, -0.2, 0.2)\n",
    "        mult = 1 + proportional_error * n_steps / self.horizon\n",
    "        self.value *= mult"
   ]
  },
  {
   "cell_type": "code",
   "execution_count": 27,
   "metadata": {},
   "outputs": [],
   "source": [
    "# exports \n",
    "\n",
    "class FixedKLController:\n",
    "    \"\"\"Fixed KL controller.\"\"\"\n",
    "    def __init__(self, kl_coef):\n",
    "        self.value = kl_coef\n",
    "\n",
    "    def update(self, current, n_steps):\n",
    "        pass"
   ]
  },
  {
   "cell_type": "code",
   "execution_count": null,
   "metadata": {},
   "outputs": [],
   "source": [
    "gpt2_model = GPT2HeadWithValueModel.from_pretrained(gpt_config['lm_name']).to(gpt_config['device'])\n",
    "gpt2_model_ref = GPT2HeadWithValueModel.from_pretrained(gpt_config['ref_lm_name']).to(gpt_config['device'])\n",
    "gpt2_tokenizer = GPT2Tokenizer.from_pretrained(gpt_config['tk_name'])"
   ]
  },
  {
   "cell_type": "code",
   "execution_count": 28,
   "metadata": {
    "scrolled": true
   },
   "outputs": [
    {
     "name": "stderr",
     "output_type": "stream",
     "text": [
      "Some weights of PegasusWithValueHeadModel were not initialized from the model checkpoint at tuner007/pegasus_paraphrase and are newly initialized: ['v_head.bias', 'v_head.weight']\n",
      "You should probably TRAIN this model on a down-stream task to be able to use it for predictions and inference.\n"
     ]
    }
   ],
   "source": [
    "pegasus_model = PegasusWithValueHeadModel.from_pretrained(pegasus_config['lm_name']).to(pegasus_config['device_ppo'])\n",
    "pegasus_model.train()\n",
    "\n",
    "pegasus_model_ref = PegasusWithValueHeadModel.from_pretrained(pegasus_config['ref_lm_name']).to(pegasus_config['device_ref'])\n",
    "pegasus_tokenizer = PegasusTokenizer.from_pretrained(pegasus_config['tk_name'])\n"
   ]
  },
  {
   "cell_type": "code",
   "execution_count": 58,
   "metadata": {},
   "outputs": [],
   "source": [
    "# gpt_ppo_trainer = PPOTrainer(gpt2_model, gpt2_model_ref, **gpt_config)\n",
    "# pegasus_model.to(pegasus_config['device_ppo'])\n",
    "pegasus_ppo_trainer = PegasusPPOTrainer(pegasus_model, pegasus_model_ref, **pegasus_config)\n"
   ]
  },
  {
   "cell_type": "code",
   "execution_count": 59,
   "metadata": {},
   "outputs": [],
   "source": [
    "query_sents = ['there are facilitate your involvement.',\n",
    "               'A massive glacier had crashed down the mountain mountain.']\n",
    "resp_sents = ['links that are helpful can be found below.',\n",
    "              'below are some useful links to facilitate your involvement.' ]"
   ]
  },
  {
   "cell_type": "code",
   "execution_count": 60,
   "metadata": {},
   "outputs": [],
   "source": [
    "batch_input = pegasus_tokenizer(query_sents ,\n",
    "                                truncation=True,\n",
    "                                padding='longest',\n",
    "                                max_length=60, \n",
    "                                return_tensors=\"pt\")\n",
    "\n",
    "batch_input['decoder_input_ids'] = torch.zeros(batch_input[\"input_ids\"].shape[0], 1, dtype=int)\n",
    "\n",
    "batch_input = batch_input.to(pegasus_config['device_ppo'])"
   ]
  },
  {
   "cell_type": "code",
   "execution_count": 61,
   "metadata": {
    "scrolled": true
   },
   "outputs": [
    {
     "data": {
      "text/plain": [
       "tensor([[  353,   127,   771,   112,  4721,   119,   107,     1, 95637,  8962],\n",
       "        [  353,   140,   114,  2926, 23682,  4897,   308,   124,   109,  2924]],\n",
       "       device='cuda:0')"
      ]
     },
     "execution_count": 61,
     "metadata": {},
     "output_type": "execute_result"
    }
   ],
   "source": [
    "respond_to_batch_pegasus(pegasus_model, batch_input, txt_len=10)"
   ]
  },
  {
   "cell_type": "code",
   "execution_count": 62,
   "metadata": {},
   "outputs": [
    {
     "data": {
      "text/plain": [
       "{'input_ids': tensor([[  186,   127,  5186,   128,  5597,   107,     1,     0,     0,     0,\n",
       "             0],\n",
       "        [  202,  2926, 23682,   196, 14726,   308,   109,  2924,  2924,   107,\n",
       "             1]], device='cuda:0'), 'attention_mask': tensor([[1, 1, 1, 1, 1, 1, 1, 0, 0, 0, 0],\n",
       "        [1, 1, 1, 1, 1, 1, 1, 1, 1, 1, 1]], device='cuda:0'), 'decoder_input_ids': tensor([[    0,   353,   127,   771,   112,  4721,   119,   107,     1, 95637,\n",
       "          8962],\n",
       "        [    0,   353,   140,   114,  2926, 23682,  4897,   308,   124,   109,\n",
       "          2924]], device='cuda:0')}"
      ]
     },
     "execution_count": 62,
     "metadata": {},
     "output_type": "execute_result"
    }
   ],
   "source": [
    "batch_input"
   ]
  },
  {
   "cell_type": "code",
   "execution_count": 63,
   "metadata": {},
   "outputs": [
    {
     "name": "stdout",
     "output_type": "stream",
     "text": [
      "rew:  torch.Size([2, 10]) score:  torch.Size([2])\n"
     ]
    },
    {
     "data": {
      "text/plain": [
       "{'objective/kl': array(-1.0031183, dtype=float32),\n",
       " 'objective/kl_dist': array([[-0.3044207 , -0.2892434 , -0.05748928,  0.04450554,  0.22243619,\n",
       "         -0.2094698 ,  0.01841021, -0.01294321,  0.50394726,  0.66732883],\n",
       "        [-0.11025667, -0.10589361,  0.01775954, -0.51187277,  0.07957881,\n",
       "         -0.6061425 ,  0.14510864, -1.5177507 ,  0.0041457 ,  0.01602513]],\n",
       "       dtype=float32),\n",
       " 'objective/logprobs': array([[ -2.254178  ,  -0.9052554 ,  -0.68954456,  -0.79264885,\n",
       "          -2.7465656 ,  -2.7636127 ,  -0.1910589 ,  -0.12111196,\n",
       "         -12.969026  , -11.552953  ],\n",
       "        [ -2.2795854 ,  -0.38646895,  -0.11493959,  -2.8519258 ,\n",
       "          -0.10873563,  -6.8220506 ,  -0.53782946,  -6.6941223 ,\n",
       "          -0.13950907,  -0.05753668]], dtype=float32),\n",
       " 'objective/ref_logprobs': array([[ -1.9497573 ,  -0.616012  ,  -0.6320553 ,  -0.8371544 ,\n",
       "          -2.9690018 ,  -2.554143  ,  -0.20946911,  -0.10816875,\n",
       "         -13.472973  , -12.220282  ],\n",
       "        [ -2.1693287 ,  -0.28057534,  -0.13269913,  -2.340053  ,\n",
       "          -0.18831444,  -6.215908  ,  -0.6829381 ,  -5.1763716 ,\n",
       "          -0.14365476,  -0.07356182]], dtype=float32),\n",
       " 'objective/kl_coef': 0.2,\n",
       " 'objective/entropy': array(27.489328, dtype=float32),\n",
       " 'ppo/mean_non_score_reward': array(0.20062369, dtype=float32),\n",
       " 'ppo/loss/policy': array([0.23911229], dtype=float32),\n",
       " 'ppo/loss/value': array([4.476022], dtype=float32),\n",
       " 'ppo/loss/total': array([0.68671453], dtype=float32),\n",
       " 'ppo/policy/entropy': array([3.2285924], dtype=float32),\n",
       " 'ppo/policy/approxkl': array([0.26737955], dtype=float32),\n",
       " 'ppo/policy/policykl': array([0.08192841], dtype=float32),\n",
       " 'ppo/policy/clipfrac': array([0.2]),\n",
       " 'ppo/policy/advantages': array([-1.4776709 , -1.0137659 , -0.45001614, -0.88347614, -0.34394267,\n",
       "         0.04536523,  0.6545785 ,  0.78042036,  1.21425   ,  1.4742576 ,\n",
       "        -1.6426109 , -1.2277112 , -0.7245915 , -0.42775583, -0.17723149,\n",
       "         0.73881936,  0.44357368,  1.0571415 ,  0.6104092 ,  1.3499544 ,\n",
       "        -1.6426109 , -1.2277112 , -0.7245915 , -0.42775583, -0.17723149,\n",
       "         0.73881936,  0.44357368,  1.0571415 ,  0.6104092 ,  1.3499544 ,\n",
       "        -1.4776709 , -1.0137659 , -0.45001614, -0.88347614, -0.34394267,\n",
       "         0.04536523,  0.6545785 ,  0.78042036,  1.21425   ,  1.4742576 ,\n",
       "        -1.4776709 , -1.0137659 , -0.45001614, -0.88347614, -0.34394267,\n",
       "         0.04536523,  0.6545785 ,  0.78042036,  1.21425   ,  1.4742576 ,\n",
       "        -1.6426109 , -1.2277112 , -0.7245915 , -0.42775583, -0.17723149,\n",
       "         0.73881936,  0.44357368,  1.0571415 ,  0.6104092 ,  1.3499544 ,\n",
       "        -1.6426109 , -1.2277112 , -0.7245915 , -0.42775583, -0.17723149,\n",
       "         0.73881936,  0.44357368,  1.0571415 ,  0.6104092 ,  1.3499544 ,\n",
       "        -1.4776709 , -1.0137659 , -0.45001614, -0.88347614, -0.34394267,\n",
       "         0.04536523,  0.6545785 ,  0.78042036,  1.21425   ,  1.4742576 ],\n",
       "       dtype=float32),\n",
       " 'ppo/policy/advantages_mean': array([-1.4901161e-07], dtype=float32),\n",
       " 'ppo/policy/ratio': array([3.2639446 , 1.3615727 , 1.2444571 , 1.029402  , 1.1165664 ,\n",
       "        2.7081475 , 0.63575214, 1.0188951 , 0.6353035 , 0.15377249,\n",
       "        1.0254846 , 0.6961814 , 0.95766383, 3.3659918 , 0.9081232 ,\n",
       "        5.242407  , 0.76990557, 3.6708357 , 1.008888  , 1.0059868 ,\n",
       "        1.8018956 , 0.87780535, 0.9704554 , 2.8447108 , 0.8388967 ,\n",
       "        0.3384234 , 0.6592152 , 3.432575  , 1.0199322 , 1.0126361 ,\n",
       "        1.2377509 , 1.9949319 , 1.0265439 , 0.9942826 , 0.92724276,\n",
       "        1.6421008 , 0.6944069 , 1.0531182 , 0.6214988 , 1.831033  ,\n",
       "        2.0938754 , 0.9997262 , 0.5756638 , 0.68454605, 1.5595037 ,\n",
       "        5.4502897 , 1.0670152 , 1.0388973 , 0.21489306, 0.22799455,\n",
       "        0.9494583 , 0.99042356, 0.92734784, 1.2059547 , 0.803556  ,\n",
       "        0.35016084, 1.1625175 , 3.0310962 , 0.9679116 , 0.78854454,\n",
       "        1.2503089 , 1.0256013 , 0.9640632 , 1.6080309 , 0.5623882 ,\n",
       "        3.331706  , 0.11661816, 4.501228  , 0.9831907 , 0.9590936 ,\n",
       "        2.2234244 , 2.1664302 , 1.3365095 , 0.70652735, 0.85835797,\n",
       "        4.236103  , 0.6754066 , 1.0157945 , 0.5420908 , 0.6450638 ],\n",
       "       dtype=float32),\n",
       " 'ppo/returns/mean': array([2.8656008], dtype=float32),\n",
       " 'ppo/returns/var': array([0.12998296], dtype=float32),\n",
       " 'ppo/val/vpred': array([-0.03554396], dtype=float32),\n",
       " 'ppo/val/error': array([8.952044], dtype=float32),\n",
       " 'ppo/val/clipfrac': array([0.]),\n",
       " 'ppo/val/mean': array([-0.01941598], dtype=float32),\n",
       " 'ppo/val/var': array([0.00641864], dtype=float32),\n",
       " 'ppo/val/var_explained': array([-67.870895], dtype=float32),\n",
       " 'time/ppo/forward_pass': 0.47800707817077637,\n",
       " 'time/ppo/compute_rewards': 0.0008299350738525391,\n",
       " 'time/ppo/optimize_step': 0.9722275733947754,\n",
       " 'time/ppo/calc_stats': 0.007859945297241211,\n",
       " 'time/ppo/total': 1.4590308666229248}"
      ]
     },
     "execution_count": 63,
     "metadata": {},
     "output_type": "execute_result"
    }
   ],
   "source": [
    "pegasus_ppo_trainer.step(batch_input, torch.tensor([3,4]).to(pegasus_config['device_ppo']))\n"
   ]
  },
  {
   "cell_type": "code",
   "execution_count": 107,
   "metadata": {},
   "outputs": [
    {
     "data": {
      "text/plain": [
       "{'input_ids': tensor([[ 487,  127,  181, 1498, 1784,  112, 5186,  128, 5597,  107,    1]],\n",
       "       device='cuda:0'), 'attention_mask': tensor([[1, 1, 1, 1, 1, 1, 1, 1, 1, 1, 1]], device='cuda:0'), 'decoder_input_ids': tensor([[    0,  5870,   119, 58128,   137,   258,  1784,   120,   138,  5186,\n",
       "           128,  5597, 14230, 74594,   296,  2007, 28992,     1,     1,     1,\n",
       "             1]], device='cuda:0')}"
      ]
     },
     "execution_count": 107,
     "metadata": {},
     "output_type": "execute_result"
    }
   ],
   "source": [
    "split_batchencoding(batch_input, 0,1)"
   ]
  },
  {
   "cell_type": "code",
   "execution_count": 65,
   "metadata": {},
   "outputs": [
    {
     "data": {
      "text/plain": [
       "tensor([[35993,   389,   617,  4465,  6117,   284, 15570,   534,  9750,    13],\n",
       "        [   32,  4858, 44539,   550, 14997,   866,   262,  8598,  8598,    13]],\n",
       "       device='cuda:1')"
      ]
     },
     "execution_count": 65,
     "metadata": {},
     "output_type": "execute_result"
    }
   ],
   "source": [
    "query_tokens_ids = [gpt2_tokenizer.encode(s, return_tensors='pt') for s in query_sents]\n",
    "query_tokens_ids = torch.cat(query_tokens_ids).to(gpt_config['device'])\n",
    "query_tokens_ids\n"
   ]
  },
  {
   "cell_type": "code",
   "execution_count": 70,
   "metadata": {},
   "outputs": [],
   "source": [
    "response_token_ids = respond_to_batch(gpt2_model, query_tokens_ids,txt_len=10)\n"
   ]
  },
  {
   "cell_type": "code",
   "execution_count": 75,
   "metadata": {},
   "outputs": [
    {
     "data": {
      "text/plain": [
       "torch.Size([2, 20])"
      ]
     },
     "execution_count": 75,
     "metadata": {},
     "output_type": "execute_result"
    }
   ],
   "source": [
    "model_input_gpt = torch.cat((query_tokens_ids, response_token_ids), axis=1)\n",
    "model_input_gpt.shape\n"
   ]
  },
  {
   "cell_type": "code",
   "execution_count": 77,
   "metadata": {},
   "outputs": [],
   "source": [
    "logits, _, v = gpt2_model(model_input_gpt)"
   ]
  },
  {
   "cell_type": "code",
   "execution_count": 84,
   "metadata": {},
   "outputs": [
    {
     "data": {
      "text/plain": [
       "(torch.Size([2, 20, 50257]), torch.Size([2, 19, 50257]), torch.Size([2, 19]))"
      ]
     },
     "execution_count": 84,
     "metadata": {},
     "output_type": "execute_result"
    }
   ],
   "source": [
    "logits.shape, logits[:,:-1,:].shape, model_input_gpt[:,1:].shape"
   ]
  },
  {
   "cell_type": "code",
   "execution_count": 85,
   "metadata": {},
   "outputs": [
    {
     "data": {
      "text/plain": [
       "tensor(35993, device='cuda:1')"
      ]
     },
     "execution_count": 85,
     "metadata": {},
     "output_type": "execute_result"
    }
   ],
   "source": [
    "model_input_gpt"
   ]
  },
  {
   "cell_type": "code",
   "execution_count": null,
   "metadata": {},
   "outputs": [],
   "source": [
    "logprobs_from_logits(logits[:,:-1,:], model_input_gpt[:,1:])[:, -10:]\n"
   ]
  },
  {
   "cell_type": "code",
   "execution_count": 86,
   "metadata": {},
   "outputs": [
    {
     "data": {
      "text/plain": [
       "torch.Size([2, 19])"
      ]
     },
     "execution_count": 86,
     "metadata": {},
     "output_type": "execute_result"
    }
   ],
   "source": [
    "logprobs_from_logits(logits[:,:-1,:], model_input_gpt[:,1:]).shape"
   ]
  },
  {
   "cell_type": "code",
   "execution_count": 87,
   "metadata": {},
   "outputs": [
    {
     "data": {
      "text/plain": [
       "[9, 8, 7, 6, 5, 4, 3, 2, 1, 0]"
      ]
     },
     "execution_count": 87,
     "metadata": {},
     "output_type": "execute_result"
    }
   ],
   "source": [
    "[t for t in reversed(range(10))]"
   ]
  },
  {
   "cell_type": "code",
   "execution_count": 51,
   "metadata": {},
   "outputs": [],
   "source": [
    "# exports \n",
    "\n",
    "class PegasusPPOTrainer:\n",
    "    \"\"\"\n",
    "    The PPO_trainer uses Proximal Policy Optimization to optimise language models.\n",
    "    \"\"\"\n",
    "    \n",
    "    default_params = {\n",
    "        \"lr\": 1.41e-5,\n",
    "        \"adap_kl_ctrl\": True, \n",
    "        \"init_kl_coef\":0.2,\n",
    "        \"target\": 6,\n",
    "        \"horizon\":10000,\n",
    "        \"gamma\":1,\n",
    "        \"lam\":0.95,\n",
    "        \"cliprange\": .2,\n",
    "        \"cliprange_value\":.2,\n",
    "        \"vf_coef\":.1,\n",
    "        \"batch_size\": 256,\n",
    "        \"forward_batch_size\": 16,\n",
    "        \"ppo_epochs\": 4,    \n",
    "    } \n",
    "    \n",
    "    def __init__(self, model, ref_model, **ppo_params):\n",
    "        \"\"\"\n",
    "        Initialize PPOTrainer.\n",
    "        \n",
    "        Args:\n",
    "            model (torch.model): Hugging Face transformer GPT2 model with value head\n",
    "            ref_model (torch.model): Hugging Face transformer GPT2 refrence model used for KL penalty\n",
    "            ppo_params (dict or None): PPO parameters for training. Can include following keys:\n",
    "                'lr' (float): Adam learning rate, default: 1.41e-5\n",
    "                'batch_size' (int): Number of samples per optimisation step, default: 256\n",
    "                'forward_batch_size' (int): Number of samples forward passed through model at a time, default: 16\n",
    "                'ppo_epochs' (int): Number of optimisation epochs per batch of samples, default: 4\n",
    "                'gamma' (float)): Gamma parameter for advantage calculation, default: 1.\n",
    "                'lam' (float): Lambda parameter for advantage calcualation, default: 0.95\n",
    "                'cliprange_value' (float): Range for clipping values in loss calculation, default: 0.2\n",
    "                'cliprange' (float): Range for clipping in PPO policy gradient loss, default: 0.2\n",
    "                'vf_coef' (float): Scaling factor for value loss, default: 0.1\n",
    "                'adap_kl_ctrl' (bool): Use adaptive KL control, otherwise linear, default: True\n",
    "                'init_kl_coef' (float): Initial KL penalty coefficient (used for adaptive and linear control), default: 0.2\n",
    "                'target' (float): Target KL value for adaptive KL control, default: 6.0\n",
    "                'horizon' (float): Horizon for adaptive KL control, default: 10000\n",
    "                \n",
    "        \"\"\"\n",
    "        self.ppo_params = self.default_params\n",
    "        self.ppo_params.update(ppo_params)\n",
    "        \n",
    "        self.ref_model = ref_model\n",
    "        self.model = model\n",
    "#         self.optimizer = Adam(model.parameters(), lr=self.ppo_params['lr'])\n",
    "        self.optimizer = SGD(model.parameters(), lr=self.ppo_params['lr'])\n",
    "     \n",
    "        self.kl_ctl = AdaptiveKLController(self.ppo_params['init_kl_coef'],\n",
    "                                           self.ppo_params['target'],\n",
    "                                           self.ppo_params['horizon'])\n",
    "\n",
    "\n",
    "    def step(self, model_input, scores):\n",
    "        \"\"\"\n",
    "        Run a PPO optimisation step.\n",
    "        \n",
    "        args:\n",
    "            query (torch.tensor): tensor containing the encoded queries, shape [batch_size, query_length]\n",
    "            response (torch.tensor): tensor containing the encoded responses, shape [batch_size, response_length]\n",
    "            scores (torch.tensor): tensor containing the scores, shape [batch_size]\n",
    "            \n",
    "        returns:\n",
    "            train_stats (dict): a summary of the training statistics\n",
    "        \"\"\"\n",
    "\n",
    "        bs = self.ppo_params['batch_size']\n",
    "        timing = dict()\n",
    "        t0 = time.time()\n",
    "        \n",
    "        gen_len = model_input[\"decoder_input_ids\"].shape[1] - 1\n",
    "#         gen_len = response.shape[1]\n",
    "#         model_input = torch.cat((query, response), axis=1)\n",
    "        \n",
    "        t = time.time()\n",
    "        logprobs, ref_logprobs, values = self.batched_forward_pass(model_input, gen_len)\n",
    "        timing['time/ppo/forward_pass'] = time.time()-t\n",
    "\n",
    "        t = time.time()\n",
    "        rewards, non_score_reward, kl_coef = self.compute_rewards(scores, logprobs, ref_logprobs)\n",
    "        timing['time/ppo/compute_rewards'] = time.time()-t \n",
    "        \n",
    "        t = time.time() \n",
    "        all_stats = []\n",
    "        idxs = list(range(bs))\n",
    "        for _ in range(self.ppo_params['ppo_epochs']):\n",
    "            random.shuffle(idxs)\n",
    "            for i in range(bs):\n",
    "                idx = idxs[i]\n",
    "                train_stats = self.train_minibatch(logprobs[idx:idx+1], \n",
    "                                                   values[idx:idx+1],\n",
    "                                                   rewards[idx:idx+1], \n",
    "                                                   split_batch_encoding(model_input, idx, idx+1))\n",
    "                all_stats.append(train_stats)\n",
    "        timing['time/ppo/optimize_step'] = time.time()-t\n",
    "        \n",
    "        t = time.time()\n",
    "        train_stats = stack_dicts(all_stats)\n",
    "        \n",
    "        # reshape advantages/ratios such that they are not averaged.\n",
    "        train_stats['policy/advantages'] = torch.flatten(train_stats['policy/advantages']).unsqueeze(0)\n",
    "        train_stats['policy/ratio'] = torch.flatten(train_stats['policy/ratio']).unsqueeze(0)\n",
    "        \n",
    "        stats = self.record_step_stats(scores=scores, logprobs=logprobs, ref_logprobs=ref_logprobs,\n",
    "                                       non_score_reward=non_score_reward, train_stats=train_stats,\n",
    "                                       kl_coef=kl_coef)\n",
    "        stats = stats_to_np(stats)\n",
    "        timing['time/ppo/calc_stats'] = time.time()-t\n",
    "\n",
    "        self.kl_ctl.update(stats['objective/kl'], self.ppo_params['batch_size'])\n",
    "\n",
    "        timing['time/ppo/total'] = time.time()-t0\n",
    "        stats.update(timing)\n",
    "        return stats\n",
    "\n",
    "    def batched_forward_pass(self, model_input, gen_len):\n",
    "        \"\"\"Calculate model outputs in multiple batches.\"\"\"\n",
    "        bs = self.ppo_params['batch_size']\n",
    "        fbs = self.ppo_params['forward_batch_size']\n",
    "        logprobs = []\n",
    "        ref_logprobs = []\n",
    "        values = []\n",
    "        \n",
    "        for i in range(int(self.ppo_params['batch_size']/fbs)):\n",
    "#             m_input = model_input[i*fbs:(i+1)*fbs]\n",
    "            m_input = split_batch_encoding(model_input, i*fbs, (i+1)*fbs)\n",
    "            logits, _, v = self.model(**m_input)\n",
    "            ref_logits, _, _ = self.ref_model(**(m_input.to(self.ppo_params['device_ref'])))\n",
    "            ref_logits = ref_logits.detach().to(self.ppo_params['device_ppo'])\n",
    "            m_input.to(self.ppo_params['device_ppo'])            \n",
    "            \n",
    "            values.append(v[:, -gen_len-1:-1].detach())\n",
    "            logprobs.append(logprobs_from_logits(logits[:,:-1,:], m_input[\"decoder_input_ids\"][:,1:])[:, -gen_len:].detach())\n",
    "            ref_logprobs.append(logprobs_from_logits(ref_logits[:,:-1,:], m_input[\"decoder_input_ids\"][:,1:])[:, -gen_len:].detach())\n",
    "   \n",
    "        torch.cuda.empty_cache()\n",
    "        return torch.cat(logprobs), torch.cat(ref_logprobs), torch.cat(values)\n",
    "    \n",
    "    def train_minibatch(self, logprobs, values, rewards, model_input):\n",
    "        \"\"\"Train one PPO minibatch\"\"\"\n",
    "        loss_p, loss_v, train_stats = self.loss(logprobs, values, rewards, model_input)\n",
    "        loss = loss_p + loss_v\n",
    "        self.optimizer.zero_grad()\n",
    "        loss.backward()\n",
    "        self.optimizer.step()\n",
    "        return train_stats\n",
    "    \n",
    "    def compute_rewards(self, scores, logprobs, ref_logprobs):\n",
    "        \"\"\"Compute per token rewards from scores and KL-penalty.\"\"\"\n",
    "        kl = logprobs - ref_logprobs\n",
    "        non_score_reward = -self.kl_ctl.value * kl\n",
    "        rewards = non_score_reward.clone().detach()\n",
    "        print(\"rew: \", rewards.shape, 'score: ', scores.shape)\n",
    "        rewards[:, -1] += scores\n",
    "        return rewards, non_score_reward, self.kl_ctl.value\n",
    "\n",
    "    def loss(self, old_logprobs, values, rewards, model_input):\n",
    "        \"\"\"Calculate policy and value losses.\"\"\"\n",
    "        lastgaelam = 0\n",
    "        advantages_reversed = []\n",
    "        gen_len = model_input[\"decoder_input_ids\"].shape[1] - 1\n",
    "#         gen_len = response.shape[1]\n",
    "\n",
    "        for t in reversed(range(gen_len)):\n",
    "            nextvalues = values[:, t + 1] if t < gen_len - 1 else 0.0\n",
    "            delta = rewards[:, t] + self.ppo_params['gamma'] * nextvalues - values[:, t]\n",
    "            lastgaelam = delta + self.ppo_params['gamma'] * self.ppo_params['lam'] * lastgaelam\n",
    "            advantages_reversed.append(lastgaelam)\n",
    "        advantages = torch.stack(advantages_reversed[::-1]).transpose(0, 1)\n",
    "\n",
    "        returns = advantages + values\n",
    "        advantages = whiten(advantages)\n",
    "        advantages = advantages.detach()\n",
    "\n",
    "        logits, _, vpred = self.model(**model_input)\n",
    "        logprob = logprobs_from_logits(logits[:,:-1,:], model_input[\"decoder_input_ids\"][:,1:])\n",
    "#         logprob = logprobs_from_logits(logits[:,:-1,:], model_input[:, 1:])\n",
    "        \n",
    "        #only the generation part of the values/logprobs is needed\n",
    "        logprob, vpred = logprob[:, -gen_len:], vpred[:,-gen_len-1:-1]\n",
    "\n",
    "        vpredclipped = clip_by_value(vpred,\n",
    "                                     values - self.ppo_params[\"cliprange_value\"],\n",
    "                                     values + self.ppo_params[\"cliprange_value\"])\n",
    "\n",
    "        vf_losses1 = (vpred - returns)**2\n",
    "        vf_losses2 = (vpredclipped - returns)**2\n",
    "        vf_loss = .5 * torch.mean(torch.max(vf_losses1, vf_losses2))\n",
    "        vf_clipfrac =  torch.mean(torch.gt(vf_losses2, vf_losses1).double())\n",
    "\n",
    "        ratio = torch.exp(logprob - old_logprobs)\n",
    "        \n",
    "        pg_losses = -advantages * ratio\n",
    "        pg_losses2 = -advantages * torch.clamp(ratio,\n",
    "                                               1.0 - self.ppo_params['cliprange'],\n",
    "                                               1.0 + self.ppo_params['cliprange'])\n",
    "\n",
    "        pg_loss = torch.mean(torch.max(pg_losses, pg_losses2))\n",
    "        pg_clipfrac = torch.mean(torch.gt(pg_losses2, pg_losses).double())\n",
    "        \n",
    "        loss = pg_loss + self.ppo_params['vf_coef'] * vf_loss\n",
    "\n",
    "        entropy = torch.mean(entropy_from_logits(logits))\n",
    "        approxkl = .5 * torch.mean((logprob - old_logprobs)**2)\n",
    "        policykl = torch.mean(logprob - old_logprobs)\n",
    "        return_mean, return_var = torch.mean(returns), torch.var(returns)\n",
    "        value_mean, value_var = torch.mean(values), torch.var(values)\n",
    "\n",
    "        stats = dict(\n",
    "            loss=dict(policy=pg_loss, value=vf_loss, total=loss),\n",
    "            policy=dict(entropy=entropy, approxkl=approxkl,policykl=policykl, clipfrac=pg_clipfrac,\n",
    "                        advantages=advantages, advantages_mean=torch.mean(advantages), ratio=ratio),\n",
    "            returns=dict(mean=return_mean, var=return_var),\n",
    "            val=dict(vpred=torch.mean(vpred), error=torch.mean((vpred - returns) ** 2),\n",
    "                     clipfrac=vf_clipfrac, mean=value_mean, var=value_var),\n",
    "        )\n",
    "        return pg_loss, self.ppo_params['vf_coef'] * vf_loss, flatten_dict(stats)\n",
    "\n",
    "\n",
    "    def record_step_stats(self, kl_coef, **data):\n",
    "        \"\"\"Record training step statistics.\"\"\"\n",
    "        kl = data['logprobs'] - data['ref_logprobs']\n",
    "        mean_kl = torch.mean(torch.sum(kl, axis=-1))\n",
    "        mean_entropy = torch.mean(torch.sum(-data['logprobs'], axis=1))\n",
    "        mean_non_score_reward =torch.mean(torch.sum(data['non_score_reward'], axis=1))\n",
    "        stats = {\n",
    "            'objective/kl': mean_kl,\n",
    "            'objective/kl_dist': kl,\n",
    "            'objective/logprobs': data['logprobs'],\n",
    "            'objective/ref_logprobs': data['ref_logprobs'],\n",
    "            'objective/kl_coef': kl_coef,\n",
    "            'objective/entropy': mean_entropy,\n",
    "            'ppo/mean_non_score_reward': mean_non_score_reward,\n",
    "        }\n",
    "\n",
    "        for k, v in data['train_stats'].items():\n",
    "            stats[f'ppo/{k}'] = torch.mean(v, axis=0)\n",
    "        stats['ppo/val/var_explained'] = 1 - stats['ppo/val/error'] / stats['ppo/returns/var']\n",
    "        return stats\n"
   ]
  },
  {
   "cell_type": "markdown",
   "metadata": {},
   "source": [
    "## Tensor shapes and contents"
   ]
  },
  {
   "cell_type": "markdown",
   "metadata": {},
   "source": [
    "Debugging tensor shapes and contents usually involves inserting a lot of print statements in the code. To avoid this in the future I add a list of the tensor shapes and contents for reference. If the tensors are sliced or reshaped I list the last shape.\n",
    "\n",
    "| Name  | Shape   | Content |\n",
    "|-------|---------|---------|\n",
    "| `query` | `[batch_size, query_length]`| contains token ids of query|\n",
    "| `response`| `[batch_size, response_length]`| contains token ids of responses|\n",
    "| `scores`| `[batch_size]`| rewards of each query/response pair|\n",
    "| `model_input`| `[batch_size, query_length + response_length]`| combined query and response tokens|\n",
    "| `m_input`|`[forward_batch_size, query_length + response_length]`| small forward batch of model_input|\n",
    "| `logits` | `[forward_batch_size, query_length + response_length, vocab_size]`| logits from model outputs|\n",
    "| `ref_logits`|`[forward_batch_size, query_length + response_length, vocab_size]`| logits from ref_model outputs|\n",
    "| `logprobs`| `[batch_size, response_length]`| log-probabilities of response tokens |\n",
    "| `ref_logprobs`| `[batch_size, response_length]`| reference log-probabilities of response tokens |\n",
    "| `rewards`| `[batch_size, response_length]`| the model rewards incl. kl-score for each token|\n",
    "| `non_score_reward`| `[batch_size, response_length]`| the model kl-score for each token|"
   ]
  },
  {
   "cell_type": "markdown",
   "metadata": {},
   "source": [
    "## Model output alignments\n",
    "Some notes on output alignments, since I spent a considerable time debugging this. All model outputs are shifted by 1 to the model inputs. That means that the logits are shifted by one as well as values. For this reason the logits and values are always shifted one step to the left. This also means we don't have logits for the first input element and so we delete the first input token when calculating the softmax, since we don't have logits predictions. The same applies for the values and we shift them by index one to the left."
   ]
  },
  {
   "cell_type": "markdown",
   "metadata": {},
   "source": [
    "## KL-divergence\n",
    "One question that came up during the implementation was \"Why is the KL-divergence just the difference of the log-probs? Where is the probability in front of the log term?\". The answer can be found in Sergey Levine's [lecture slides](http://rll.berkeley.edu/deeprlcourse/docs/week_3_lecture_1_dynamics_learning.pdf): To calculate the KL divergence we calculate the expected value of the log term. The probability usually in front of the log-term comes from that expected value and for a set of trajectories we can simply take the mean over the sampled trajectories."
   ]
  }
 ],
 "metadata": {
  "kernelspec": {
   "display_name": "rl-proj-simp",
   "language": "python",
   "name": "rl-proj-simp"
  },
  "language_info": {
   "codemirror_mode": {
    "name": "ipython",
    "version": 3
   },
   "file_extension": ".py",
   "mimetype": "text/x-python",
   "name": "python",
   "nbconvert_exporter": "python",
   "pygments_lexer": "ipython3",
   "version": "3.8.5"
  }
 },
 "nbformat": 4,
 "nbformat_minor": 4
}
